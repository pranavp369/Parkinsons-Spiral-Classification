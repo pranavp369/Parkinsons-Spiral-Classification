{
  "nbformat": 4,
  "nbformat_minor": 0,
  "metadata": {
    "colab": {
      "provenance": []
    },
    "kernelspec": {
      "name": "python3",
      "display_name": "Python 3"
    },
    "language_info": {
      "name": "python"
    },
    "gpuClass": "standard",
    "accelerator": "GPU",
    "widgets": {
      "application/vnd.jupyter.widget-state+json": {
        "10fb9baaea4942b5a922080640e8eb3c": {
          "model_module": "@jupyter-widgets/controls",
          "model_name": "HBoxModel",
          "model_module_version": "1.5.0",
          "state": {
            "_dom_classes": [],
            "_model_module": "@jupyter-widgets/controls",
            "_model_module_version": "1.5.0",
            "_model_name": "HBoxModel",
            "_view_count": null,
            "_view_module": "@jupyter-widgets/controls",
            "_view_module_version": "1.5.0",
            "_view_name": "HBoxView",
            "box_style": "",
            "children": [
              "IPY_MODEL_9c8457602bd649a0a5347c4768c04c6a",
              "IPY_MODEL_553a505e86fc45f9a0bd3ca6cb6b6ced",
              "IPY_MODEL_d8e857f8a03d4c9598655f52a6ff288b"
            ],
            "layout": "IPY_MODEL_4cc00b2e81444970aced03203aa54424"
          }
        },
        "9c8457602bd649a0a5347c4768c04c6a": {
          "model_module": "@jupyter-widgets/controls",
          "model_name": "HTMLModel",
          "model_module_version": "1.5.0",
          "state": {
            "_dom_classes": [],
            "_model_module": "@jupyter-widgets/controls",
            "_model_module_version": "1.5.0",
            "_model_name": "HTMLModel",
            "_view_count": null,
            "_view_module": "@jupyter-widgets/controls",
            "_view_module_version": "1.5.0",
            "_view_name": "HTMLView",
            "description": "",
            "description_tooltip": null,
            "layout": "IPY_MODEL_13c6bb63159845a88a89728a32537682",
            "placeholder": "​",
            "style": "IPY_MODEL_0f74ce276f434c0097e9cf648355bef5",
            "value": "100%"
          }
        },
        "553a505e86fc45f9a0bd3ca6cb6b6ced": {
          "model_module": "@jupyter-widgets/controls",
          "model_name": "FloatProgressModel",
          "model_module_version": "1.5.0",
          "state": {
            "_dom_classes": [],
            "_model_module": "@jupyter-widgets/controls",
            "_model_module_version": "1.5.0",
            "_model_name": "FloatProgressModel",
            "_view_count": null,
            "_view_module": "@jupyter-widgets/controls",
            "_view_module_version": "1.5.0",
            "_view_name": "ProgressView",
            "bar_style": "success",
            "description": "",
            "description_tooltip": null,
            "layout": "IPY_MODEL_16a9b5a6e58847a3a7eec032408046e5",
            "max": 102540417,
            "min": 0,
            "orientation": "horizontal",
            "style": "IPY_MODEL_a52dbcaeba2640e7b82594d14c94ecb8",
            "value": 102540417
          }
        },
        "d8e857f8a03d4c9598655f52a6ff288b": {
          "model_module": "@jupyter-widgets/controls",
          "model_name": "HTMLModel",
          "model_module_version": "1.5.0",
          "state": {
            "_dom_classes": [],
            "_model_module": "@jupyter-widgets/controls",
            "_model_module_version": "1.5.0",
            "_model_name": "HTMLModel",
            "_view_count": null,
            "_view_module": "@jupyter-widgets/controls",
            "_view_module_version": "1.5.0",
            "_view_name": "HTMLView",
            "description": "",
            "description_tooltip": null,
            "layout": "IPY_MODEL_9174ca8c267340c7b0e09fe8e36cd0c9",
            "placeholder": "​",
            "style": "IPY_MODEL_7b1ae6aafe044a30934dac8891fc436f",
            "value": " 97.8M/97.8M [00:01&lt;00:00, 88.7MB/s]"
          }
        },
        "4cc00b2e81444970aced03203aa54424": {
          "model_module": "@jupyter-widgets/base",
          "model_name": "LayoutModel",
          "model_module_version": "1.2.0",
          "state": {
            "_model_module": "@jupyter-widgets/base",
            "_model_module_version": "1.2.0",
            "_model_name": "LayoutModel",
            "_view_count": null,
            "_view_module": "@jupyter-widgets/base",
            "_view_module_version": "1.2.0",
            "_view_name": "LayoutView",
            "align_content": null,
            "align_items": null,
            "align_self": null,
            "border": null,
            "bottom": null,
            "display": null,
            "flex": null,
            "flex_flow": null,
            "grid_area": null,
            "grid_auto_columns": null,
            "grid_auto_flow": null,
            "grid_auto_rows": null,
            "grid_column": null,
            "grid_gap": null,
            "grid_row": null,
            "grid_template_areas": null,
            "grid_template_columns": null,
            "grid_template_rows": null,
            "height": null,
            "justify_content": null,
            "justify_items": null,
            "left": null,
            "margin": null,
            "max_height": null,
            "max_width": null,
            "min_height": null,
            "min_width": null,
            "object_fit": null,
            "object_position": null,
            "order": null,
            "overflow": null,
            "overflow_x": null,
            "overflow_y": null,
            "padding": null,
            "right": null,
            "top": null,
            "visibility": null,
            "width": null
          }
        },
        "13c6bb63159845a88a89728a32537682": {
          "model_module": "@jupyter-widgets/base",
          "model_name": "LayoutModel",
          "model_module_version": "1.2.0",
          "state": {
            "_model_module": "@jupyter-widgets/base",
            "_model_module_version": "1.2.0",
            "_model_name": "LayoutModel",
            "_view_count": null,
            "_view_module": "@jupyter-widgets/base",
            "_view_module_version": "1.2.0",
            "_view_name": "LayoutView",
            "align_content": null,
            "align_items": null,
            "align_self": null,
            "border": null,
            "bottom": null,
            "display": null,
            "flex": null,
            "flex_flow": null,
            "grid_area": null,
            "grid_auto_columns": null,
            "grid_auto_flow": null,
            "grid_auto_rows": null,
            "grid_column": null,
            "grid_gap": null,
            "grid_row": null,
            "grid_template_areas": null,
            "grid_template_columns": null,
            "grid_template_rows": null,
            "height": null,
            "justify_content": null,
            "justify_items": null,
            "left": null,
            "margin": null,
            "max_height": null,
            "max_width": null,
            "min_height": null,
            "min_width": null,
            "object_fit": null,
            "object_position": null,
            "order": null,
            "overflow": null,
            "overflow_x": null,
            "overflow_y": null,
            "padding": null,
            "right": null,
            "top": null,
            "visibility": null,
            "width": null
          }
        },
        "0f74ce276f434c0097e9cf648355bef5": {
          "model_module": "@jupyter-widgets/controls",
          "model_name": "DescriptionStyleModel",
          "model_module_version": "1.5.0",
          "state": {
            "_model_module": "@jupyter-widgets/controls",
            "_model_module_version": "1.5.0",
            "_model_name": "DescriptionStyleModel",
            "_view_count": null,
            "_view_module": "@jupyter-widgets/base",
            "_view_module_version": "1.2.0",
            "_view_name": "StyleView",
            "description_width": ""
          }
        },
        "16a9b5a6e58847a3a7eec032408046e5": {
          "model_module": "@jupyter-widgets/base",
          "model_name": "LayoutModel",
          "model_module_version": "1.2.0",
          "state": {
            "_model_module": "@jupyter-widgets/base",
            "_model_module_version": "1.2.0",
            "_model_name": "LayoutModel",
            "_view_count": null,
            "_view_module": "@jupyter-widgets/base",
            "_view_module_version": "1.2.0",
            "_view_name": "LayoutView",
            "align_content": null,
            "align_items": null,
            "align_self": null,
            "border": null,
            "bottom": null,
            "display": null,
            "flex": null,
            "flex_flow": null,
            "grid_area": null,
            "grid_auto_columns": null,
            "grid_auto_flow": null,
            "grid_auto_rows": null,
            "grid_column": null,
            "grid_gap": null,
            "grid_row": null,
            "grid_template_areas": null,
            "grid_template_columns": null,
            "grid_template_rows": null,
            "height": null,
            "justify_content": null,
            "justify_items": null,
            "left": null,
            "margin": null,
            "max_height": null,
            "max_width": null,
            "min_height": null,
            "min_width": null,
            "object_fit": null,
            "object_position": null,
            "order": null,
            "overflow": null,
            "overflow_x": null,
            "overflow_y": null,
            "padding": null,
            "right": null,
            "top": null,
            "visibility": null,
            "width": null
          }
        },
        "a52dbcaeba2640e7b82594d14c94ecb8": {
          "model_module": "@jupyter-widgets/controls",
          "model_name": "ProgressStyleModel",
          "model_module_version": "1.5.0",
          "state": {
            "_model_module": "@jupyter-widgets/controls",
            "_model_module_version": "1.5.0",
            "_model_name": "ProgressStyleModel",
            "_view_count": null,
            "_view_module": "@jupyter-widgets/base",
            "_view_module_version": "1.2.0",
            "_view_name": "StyleView",
            "bar_color": null,
            "description_width": ""
          }
        },
        "9174ca8c267340c7b0e09fe8e36cd0c9": {
          "model_module": "@jupyter-widgets/base",
          "model_name": "LayoutModel",
          "model_module_version": "1.2.0",
          "state": {
            "_model_module": "@jupyter-widgets/base",
            "_model_module_version": "1.2.0",
            "_model_name": "LayoutModel",
            "_view_count": null,
            "_view_module": "@jupyter-widgets/base",
            "_view_module_version": "1.2.0",
            "_view_name": "LayoutView",
            "align_content": null,
            "align_items": null,
            "align_self": null,
            "border": null,
            "bottom": null,
            "display": null,
            "flex": null,
            "flex_flow": null,
            "grid_area": null,
            "grid_auto_columns": null,
            "grid_auto_flow": null,
            "grid_auto_rows": null,
            "grid_column": null,
            "grid_gap": null,
            "grid_row": null,
            "grid_template_areas": null,
            "grid_template_columns": null,
            "grid_template_rows": null,
            "height": null,
            "justify_content": null,
            "justify_items": null,
            "left": null,
            "margin": null,
            "max_height": null,
            "max_width": null,
            "min_height": null,
            "min_width": null,
            "object_fit": null,
            "object_position": null,
            "order": null,
            "overflow": null,
            "overflow_x": null,
            "overflow_y": null,
            "padding": null,
            "right": null,
            "top": null,
            "visibility": null,
            "width": null
          }
        },
        "7b1ae6aafe044a30934dac8891fc436f": {
          "model_module": "@jupyter-widgets/controls",
          "model_name": "DescriptionStyleModel",
          "model_module_version": "1.5.0",
          "state": {
            "_model_module": "@jupyter-widgets/controls",
            "_model_module_version": "1.5.0",
            "_model_name": "DescriptionStyleModel",
            "_view_count": null,
            "_view_module": "@jupyter-widgets/base",
            "_view_module_version": "1.2.0",
            "_view_name": "StyleView",
            "description_width": ""
          }
        }
      }
    }
  },
  "cells": [
    {
      "cell_type": "code",
      "execution_count": null,
      "metadata": {
        "colab": {
          "base_uri": "https://localhost:8080/"
        },
        "id": "gTRttl70AlUs",
        "outputId": "e6694eff-34b5-485d-bba3-50ef1ef26d7a"
      },
      "outputs": [
        {
          "output_type": "stream",
          "name": "stdout",
          "text": [
            "fatal: destination path 'AIA-Project' already exists and is not an empty directory.\n",
            "Cloning into 'Warwick_Dataset'...\n",
            "fatal: could not read Username for 'https://github.com': No such device or address\n"
          ]
        }
      ],
      "source": [
        "!git clone https://github.com/pranavp369/AIA-Project.git"
      ]
    },
    {
      "cell_type": "code",
      "source": [
        "#Load libraries\n",
        "import os\n",
        "import numpy as np\n",
        "import torch\n",
        "import glob\n",
        "import torch.nn as nn\n",
        "from torchvision.transforms import transforms\n",
        "import torchvision.models as models\n",
        "import torch.nn.functional as F\n",
        "import torch.optim as optim\n",
        "from torch.utils.data import DataLoader , random_split\n",
        "from torch.optim import Adam\n",
        "from torch.autograd import Variable\n",
        "import torchvision\n",
        "import pathlib\n",
        "from torch.utils.data.sampler import SubsetRandomSampler\n",
        "from torch.utils.data.distributed import Dataset\n",
        "from PIL import Image\n",
        "from pathlib import Path\n",
        "import matplotlib.pyplot as plt\n",
        "import copy\n",
        "import time\n",
        "import re\n",
        "import pandas as pd\n",
        "from sklearn.svm import SVC\n",
        "from sklearn.discriminant_analysis import LinearDiscriminantAnalysis as LDA\n",
        "from sklearn.discriminant_analysis import QuadraticDiscriminantAnalysis as QDA\n",
        "from sklearn.neighbors import KNeighborsClassifier as KNN\n",
        "from sklearn.tree import DecisionTreeClassifier as DTC\n",
        "from sklearn.ensemble import RandomForestClassifier as RFC \n",
        "from sklearn.ensemble import AdaBoostClassifier as ABC\n",
        "from sklearn.metrics import accuracy_score, precision_score, recall_score\n",
        "from sklearn.model_selection import train_test_split\n",
        "from sklearn.preprocessing import StandardScaler\n",
        "from sklearn.decomposition import PCA"
      ],
      "metadata": {
        "id": "k8NuAcFVCM0x"
      },
      "execution_count": null,
      "outputs": []
    },
    {
      "cell_type": "code",
      "source": [
        "#checking for device\n",
        "device=torch.device('cuda' if torch.cuda.is_available() else 'cpu')\n",
        "device"
      ],
      "metadata": {
        "colab": {
          "base_uri": "https://localhost:8080/"
        },
        "id": "sWbgQop-CUWQ",
        "outputId": "513e562d-574c-4a5a-ba90-01e2fe838fc2"
      },
      "execution_count": null,
      "outputs": [
        {
          "output_type": "execute_result",
          "data": {
            "text/plain": [
              "device(type='cuda')"
            ]
          },
          "metadata": {},
          "execution_count": 7
        }
      ]
    },
    {
      "cell_type": "code",
      "source": [
        "#Supporting functions\n",
        "\n",
        "def flatten(l):\n",
        "    return [item for sublist in l for item in sublist]\n",
        "\n",
        "def test_loader(dataset):\n",
        "  data_size = len(dataset)\n",
        "  data_loader = DataLoader(dataset, batch_size = data_size, shuffle = False)\n",
        "  return next(iter(data_loader)) \n"
      ],
      "metadata": {
        "id": "YlPuKDglGclr"
      },
      "execution_count": null,
      "outputs": []
    },
    {
      "cell_type": "code",
      "source": [
        "#Customize the Dataset\n",
        "class Spiral_DataSet(Dataset):\n",
        "  \n",
        "  def __init__(self,image_dir):\n",
        "    self.image_dir = Path(image_dir)\n",
        "    self.label = [i for i in os.listdir(image_dir)]\n",
        "    self.image_path_list = list(self.image_dir.glob(\"*/*.tiff\"))\n",
        "    \n",
        "    \n",
        "  \n",
        "  def __len__(self):\n",
        "    \n",
        "    return len(self.image_path_list)\n",
        "\n",
        "  def __getitem__(self, index):\n",
        "\n",
        "    #print(index)\n",
        "    image = Image.open(self.image_path_list[index]).convert('RGB')\n",
        "    label = self.image_path_list[index].parent.stem\n",
        "    image_transforms = transforms.Compose([\n",
        "                                     transforms.CenterCrop(size=(490,600)),\\\n",
        "                                     transforms.Resize(size=(256,256)),\\\n",
        "                                     transforms.ToTensor(),\\\n",
        "                                     transforms.Normalize((0.485, 0.456, 0.406), (0.229, 0.224, 0.225))])\n",
        "    \n",
        "    image = image_transforms(image)\n",
        "\n",
        "    if label == \"Control\":\n",
        "      label_class = 0\n",
        "    else:\n",
        "      label_class = 1\n",
        "\n",
        "\n",
        "    return (image,label_class)"
      ],
      "metadata": {
        "id": "6nv-fezn1027"
      },
      "execution_count": null,
      "outputs": []
    },
    {
      "cell_type": "code",
      "source": [
        "#Customize the Dataset\n",
        "class Spiral_DataSet_PNG(Dataset):\n",
        "  \n",
        "  def __init__(self,image_dir):\n",
        "    self.image_dir = Path(image_dir)\n",
        "    self.label = [i for i in os.listdir(image_dir)]\n",
        "    self.image_path_list = list(self.image_dir.glob(\"*/*.png\"))\n",
        "    \n",
        "    \n",
        "  \n",
        "  def __len__(self):\n",
        "    \n",
        "    return len(self.image_path_list)\n",
        "\n",
        "  def __getitem__(self, index):\n",
        "\n",
        "    #print(index)\n",
        "    image = Image.open(self.image_path_list[index]).convert('RGB')\n",
        "    label = self.image_path_list[index].parent.stem\n",
        "    image_transforms = transforms.Compose([\n",
        "                                     transforms.CenterCrop(size=(490,600)),\\\n",
        "                                     transforms.Resize(size=(256,256)),\\\n",
        "                                     transforms.ToTensor(),\\\n",
        "                                     transforms.Normalize((0.485, 0.456, 0.406), (0.229, 0.224, 0.225))])\n",
        "    \n",
        "    image = image_transforms(image)\n",
        "\n",
        "    if label == \"Control\":\n",
        "      label_class = 0\n",
        "    else:\n",
        "      label_class = 1\n",
        "\n",
        "\n",
        "    return (image,label_class)"
      ],
      "metadata": {
        "id": "v6Zr3ViHWaNp"
      },
      "execution_count": null,
      "outputs": []
    },
    {
      "cell_type": "code",
      "source": [
        "def AIA_model(model,dataset, criterion, optimizer, scheduler, no_of_epochs):\n",
        "\n",
        "  model.to(device)\n",
        "\n",
        "  best_model_wts = copy.deepcopy(model.state_dict())\n",
        "  best_acc = 0\n",
        "  count = 0\n",
        "  output = []\n",
        "\n",
        "  for i in range(no_of_epochs):\n",
        "      per = 0.2\n",
        "      a = len(dataset)*(1-per)\n",
        "      b = len(dataset)*per\n",
        "      trainingdataset, testdataset = torch.utils.data.random_split(dataset, [int(a),int(b)])\n",
        "      dataset_size = [len(trainingdataset),len(testdataset)]\n",
        "\n",
        "      train_data = DataLoader(trainingdataset, batch_size=8, shuffle=True)\n",
        "      test_data = test_loader(testdataset)\n",
        "      x_test, y_test = test_data[0].to(device), test_data[1].to(device)\n",
        "    \n",
        "      print(f\"{i+1} Epoch out of {no_of_epochs} Epochs\")\n",
        "      \n",
        "      running_loss = 0.0\n",
        "      running_corrects = 0\n",
        "\n",
        "      for j in train_data:\n",
        "          image_tensor,label_tensor = j[0].to(device), j[1].to(device)\n",
        "\n",
        "          optimizer.zero_grad()\n",
        "          out = model(image_tensor)\n",
        "          _,pred = torch.max(out,1)\n",
        "          loss = criterion(out,label_tensor)\n",
        "          loss.backward()\n",
        "          optimizer.step()\n",
        "          running_loss += loss.item()*image_tensor.size(0)\n",
        "          running_corrects += torch.sum(pred==label_tensor.data) \n",
        "\n",
        "\n",
        "      epoch_loss = running_loss/dataset_size[0]\n",
        "      epoch_accuracy = running_corrects.double()/dataset_size[0]\n",
        "      print(f'Train Loss: {epoch_loss:.4f} Acc: {epoch_accuracy:.4f}')\n",
        "\n",
        "      if epoch_accuracy >= best_acc:\n",
        "            best_acc = epoch_accuracy\n",
        "            best_model_wts = copy.deepcopy(model.state_dict())\n",
        "\n",
        "\n",
        "      #Test Data\n",
        "      with torch.no_grad():\n",
        "\n",
        "        test_out = model(x_test)\n",
        "        \n",
        "        _,test_pred = torch.max(test_out,1)\n",
        "        test_loss = criterion(test_out, y_test)/dataset_size[1]\n",
        "        test_acc = torch.sum(test_pred==y_test.data)/dataset_size[1]\n",
        "        print(f'Test Loss:{test_loss.item():.4f} Acc: {test_acc:.4f}')\n",
        "\n",
        "  print(f\"Best Accuracy: {best_acc}\")   \n",
        "  model.load_state_dict(best_model_wts)\n",
        "    \n",
        "  return model    \n"
      ],
      "metadata": {
        "id": "71UoCUBFgz_W"
      },
      "execution_count": null,
      "outputs": []
    },
    {
      "cell_type": "code",
      "source": [
        "dataset = Spiral_DataSet('/content/AIA-Project/data/')"
      ],
      "metadata": {
        "id": "cqPoGXG7IZr-"
      },
      "execution_count": null,
      "outputs": []
    },
    {
      "cell_type": "code",
      "source": [
        "net = models.resnet50(weights = 'ResNet50_Weights.DEFAULT')\n",
        "\n",
        "criterion = nn.CrossEntropyLoss()\n",
        "optimizer = optim.SGD(net.parameters(), lr=0.1, momentum=0.9, weight_decay=0.0001)\n",
        "scheduler = optim.lr_scheduler.ReduceLROnPlateau(optimizer, factor = 0.1, patience=5)\n",
        "\n",
        "num_features = net.fc.in_features\n",
        "\n",
        "net.fc = nn.Linear(num_features,2)\n",
        "#print(net)\n",
        "#feature_extractor = torch.nn.Sequential(*list(net.children())[:-1])\n",
        "#print(feature_extractor)"
      ],
      "metadata": {
        "id": "cdzwhPQ0g0OO",
        "colab": {
          "base_uri": "https://localhost:8080/",
          "height": 87,
          "referenced_widgets": [
            "10fb9baaea4942b5a922080640e8eb3c",
            "9c8457602bd649a0a5347c4768c04c6a",
            "553a505e86fc45f9a0bd3ca6cb6b6ced",
            "d8e857f8a03d4c9598655f52a6ff288b",
            "4cc00b2e81444970aced03203aa54424",
            "13c6bb63159845a88a89728a32537682",
            "0f74ce276f434c0097e9cf648355bef5",
            "16a9b5a6e58847a3a7eec032408046e5",
            "a52dbcaeba2640e7b82594d14c94ecb8",
            "9174ca8c267340c7b0e09fe8e36cd0c9",
            "7b1ae6aafe044a30934dac8891fc436f"
          ]
        },
        "outputId": "3da59585-e911-4156-e1c2-c6dc2eb5bdac"
      },
      "execution_count": null,
      "outputs": [
        {
          "output_type": "stream",
          "name": "stderr",
          "text": [
            "Downloading: \"https://download.pytorch.org/models/resnet50-11ad3fa6.pth\" to /root/.cache/torch/hub/checkpoints/resnet50-11ad3fa6.pth\n"
          ]
        },
        {
          "output_type": "display_data",
          "data": {
            "text/plain": [
              "  0%|          | 0.00/97.8M [00:00<?, ?B/s]"
            ],
            "application/vnd.jupyter.widget-view+json": {
              "version_major": 2,
              "version_minor": 0,
              "model_id": "10fb9baaea4942b5a922080640e8eb3c"
            }
          },
          "metadata": {}
        }
      ]
    },
    {
      "cell_type": "code",
      "source": [
        "num_epochs = 50\n",
        "model= AIA_model(net, dataset, criterion, optimizer, scheduler, num_epochs)"
      ],
      "metadata": {
        "colab": {
          "base_uri": "https://localhost:8080/"
        },
        "id": "Z5GqWS3lLXHF",
        "outputId": "448b9347-c910-46d8-d906-4b4edd3f5931"
      },
      "execution_count": null,
      "outputs": [
        {
          "output_type": "stream",
          "name": "stdout",
          "text": [
            "1 Epoch out of 50 Epochs\n",
            "Train Loss: 0.5999 Acc: 0.7188\n",
            "Test Loss:0.0131 Acc: 0.7083\n",
            "2 Epoch out of 50 Epochs\n",
            "Train Loss: 0.5557 Acc: 0.7500\n",
            "Test Loss:0.0109 Acc: 0.7500\n",
            "3 Epoch out of 50 Epochs\n",
            "Train Loss: 0.4539 Acc: 0.7812\n",
            "Test Loss:0.0094 Acc: 0.7708\n",
            "4 Epoch out of 50 Epochs\n",
            "Train Loss: 0.4011 Acc: 0.8073\n",
            "Test Loss:0.0053 Acc: 0.8542\n",
            "5 Epoch out of 50 Epochs\n",
            "Train Loss: 0.2521 Acc: 0.8802\n",
            "Test Loss:0.0042 Acc: 0.9167\n",
            "6 Epoch out of 50 Epochs\n",
            "Train Loss: 0.3052 Acc: 0.8594\n",
            "Test Loss:0.0047 Acc: 0.9167\n",
            "7 Epoch out of 50 Epochs\n",
            "Train Loss: 0.2488 Acc: 0.9010\n",
            "Test Loss:0.0103 Acc: 0.7708\n",
            "8 Epoch out of 50 Epochs\n",
            "Train Loss: 0.1877 Acc: 0.9167\n",
            "Test Loss:0.0046 Acc: 0.9167\n",
            "9 Epoch out of 50 Epochs\n",
            "Train Loss: 0.1351 Acc: 0.9531\n",
            "Test Loss:0.0030 Acc: 0.9583\n",
            "10 Epoch out of 50 Epochs\n",
            "Train Loss: 0.1843 Acc: 0.9323\n",
            "Test Loss:0.0023 Acc: 0.9583\n",
            "11 Epoch out of 50 Epochs\n",
            "Train Loss: 0.2351 Acc: 0.8802\n",
            "Test Loss:0.0051 Acc: 0.8542\n",
            "12 Epoch out of 50 Epochs\n",
            "Train Loss: 0.2085 Acc: 0.9271\n",
            "Test Loss:0.0047 Acc: 0.9167\n",
            "13 Epoch out of 50 Epochs\n",
            "Train Loss: 0.1812 Acc: 0.9479\n",
            "Test Loss:0.0013 Acc: 0.9792\n",
            "14 Epoch out of 50 Epochs\n",
            "Train Loss: 0.0703 Acc: 0.9792\n",
            "Test Loss:0.0007 Acc: 0.9792\n",
            "15 Epoch out of 50 Epochs\n",
            "Train Loss: 0.0825 Acc: 0.9688\n",
            "Test Loss:0.0013 Acc: 0.9583\n",
            "16 Epoch out of 50 Epochs\n",
            "Train Loss: 0.1231 Acc: 0.9427\n",
            "Test Loss:0.0058 Acc: 0.8750\n",
            "17 Epoch out of 50 Epochs\n",
            "Train Loss: 0.2029 Acc: 0.9375\n",
            "Test Loss:0.0027 Acc: 0.9167\n",
            "18 Epoch out of 50 Epochs\n",
            "Train Loss: 0.1269 Acc: 0.9531\n",
            "Test Loss:0.0033 Acc: 0.9167\n",
            "19 Epoch out of 50 Epochs\n",
            "Train Loss: 0.1392 Acc: 0.9583\n",
            "Test Loss:0.0029 Acc: 0.9583\n",
            "20 Epoch out of 50 Epochs\n",
            "Train Loss: 0.1538 Acc: 0.9427\n",
            "Test Loss:0.0003 Acc: 1.0000\n",
            "21 Epoch out of 50 Epochs\n",
            "Train Loss: 0.0372 Acc: 0.9896\n",
            "Test Loss:0.0006 Acc: 1.0000\n",
            "22 Epoch out of 50 Epochs\n",
            "Train Loss: 0.0370 Acc: 0.9948\n",
            "Test Loss:0.0008 Acc: 1.0000\n",
            "23 Epoch out of 50 Epochs\n",
            "Train Loss: 0.0493 Acc: 0.9792\n",
            "Test Loss:0.0004 Acc: 1.0000\n",
            "24 Epoch out of 50 Epochs\n",
            "Train Loss: 0.0293 Acc: 0.9896\n",
            "Test Loss:0.0008 Acc: 0.9792\n",
            "25 Epoch out of 50 Epochs\n",
            "Train Loss: 0.0586 Acc: 0.9688\n",
            "Test Loss:0.0002 Acc: 1.0000\n",
            "26 Epoch out of 50 Epochs\n",
            "Train Loss: 0.0721 Acc: 0.9792\n",
            "Test Loss:0.0047 Acc: 0.8958\n",
            "27 Epoch out of 50 Epochs\n",
            "Train Loss: 0.1049 Acc: 0.9844\n",
            "Test Loss:0.0004 Acc: 1.0000\n",
            "28 Epoch out of 50 Epochs\n",
            "Train Loss: 0.0491 Acc: 0.9844\n",
            "Test Loss:0.0004 Acc: 1.0000\n",
            "29 Epoch out of 50 Epochs\n",
            "Train Loss: 0.0609 Acc: 0.9844\n",
            "Test Loss:0.0006 Acc: 1.0000\n",
            "30 Epoch out of 50 Epochs\n",
            "Train Loss: 0.0682 Acc: 0.9792\n",
            "Test Loss:0.0066 Acc: 0.8750\n",
            "31 Epoch out of 50 Epochs\n",
            "Train Loss: 0.0825 Acc: 0.9583\n",
            "Test Loss:0.0009 Acc: 0.9792\n",
            "32 Epoch out of 50 Epochs\n",
            "Train Loss: 0.0460 Acc: 0.9792\n",
            "Test Loss:0.0001 Acc: 1.0000\n",
            "33 Epoch out of 50 Epochs\n",
            "Train Loss: 0.0186 Acc: 0.9948\n",
            "Test Loss:0.0002 Acc: 1.0000\n",
            "34 Epoch out of 50 Epochs\n",
            "Train Loss: 0.0107 Acc: 1.0000\n",
            "Test Loss:0.0001 Acc: 1.0000\n",
            "35 Epoch out of 50 Epochs\n",
            "Train Loss: 0.0135 Acc: 0.9948\n",
            "Test Loss:0.0001 Acc: 1.0000\n",
            "36 Epoch out of 50 Epochs\n",
            "Train Loss: 0.0043 Acc: 1.0000\n",
            "Test Loss:0.0000 Acc: 1.0000\n",
            "37 Epoch out of 50 Epochs\n",
            "Train Loss: 0.0157 Acc: 1.0000\n",
            "Test Loss:0.0003 Acc: 1.0000\n",
            "38 Epoch out of 50 Epochs\n",
            "Train Loss: 0.0142 Acc: 0.9948\n",
            "Test Loss:0.0001 Acc: 1.0000\n",
            "39 Epoch out of 50 Epochs\n",
            "Train Loss: 0.0099 Acc: 1.0000\n",
            "Test Loss:0.0000 Acc: 1.0000\n",
            "40 Epoch out of 50 Epochs\n",
            "Train Loss: 0.0035 Acc: 1.0000\n",
            "Test Loss:0.0000 Acc: 1.0000\n",
            "41 Epoch out of 50 Epochs\n",
            "Train Loss: 0.0021 Acc: 1.0000\n",
            "Test Loss:0.0000 Acc: 1.0000\n",
            "42 Epoch out of 50 Epochs\n",
            "Train Loss: 0.0027 Acc: 1.0000\n",
            "Test Loss:0.0000 Acc: 1.0000\n",
            "43 Epoch out of 50 Epochs\n",
            "Train Loss: 0.0036 Acc: 1.0000\n",
            "Test Loss:0.0000 Acc: 1.0000\n",
            "44 Epoch out of 50 Epochs\n",
            "Train Loss: 0.0026 Acc: 1.0000\n",
            "Test Loss:0.0000 Acc: 1.0000\n",
            "45 Epoch out of 50 Epochs\n",
            "Train Loss: 0.0034 Acc: 1.0000\n",
            "Test Loss:0.0000 Acc: 1.0000\n",
            "46 Epoch out of 50 Epochs\n",
            "Train Loss: 0.0160 Acc: 0.9948\n",
            "Test Loss:0.0000 Acc: 1.0000\n",
            "47 Epoch out of 50 Epochs\n",
            "Train Loss: 0.0047 Acc: 1.0000\n",
            "Test Loss:0.0000 Acc: 1.0000\n",
            "48 Epoch out of 50 Epochs\n",
            "Train Loss: 0.0039 Acc: 1.0000\n",
            "Test Loss:0.0000 Acc: 1.0000\n",
            "49 Epoch out of 50 Epochs\n",
            "Train Loss: 0.0011 Acc: 1.0000\n",
            "Test Loss:0.0000 Acc: 1.0000\n",
            "50 Epoch out of 50 Epochs\n",
            "Train Loss: 0.0121 Acc: 0.9948\n",
            "Test Loss:0.0002 Acc: 1.0000\n",
            "Best Accuracy: 1.0\n"
          ]
        }
      ]
    },
    {
      "cell_type": "code",
      "source": [
        "def feature_extraction(model, dataset):\n",
        "    dataset_len = len(dataset)\n",
        "\n",
        "    count = 0\n",
        "    batchsize = 10\n",
        "\n",
        "    data = DataLoader(dataset, batch_size=batchsize,shuffle=True)\n",
        "    \n",
        "\n",
        "    data_features = np.zeros((len(dataset),2048))\n",
        "    data_label = np.zeros((len(dataset),1))\n",
        "\n",
        "    feature_extractor = torch.nn.Sequential(*list(model.children())[:-1])\n",
        "\n",
        "    for i in data:\n",
        "        x_data, y_data = i[0].to(device), i[1].to(device)\n",
        "    \n",
        "        #extracting Features\n",
        "        test_output = feature_extractor(x_data)\n",
        "\n",
        "        feature_output_int = test_output.cpu().detach().numpy()\n",
        "        feature_label = y_data.cpu().detach().numpy()\n",
        "\n",
        "        for index in range(batchsize):\n",
        "            feat = flatten(feature_output_int[index])\n",
        "            data_features[count+index,:] = flatten(feat)\n",
        "            data_label[count+index] = int(feature_label[index])\n",
        "        count = count+batchsize\n",
        "    \n",
        "    train_x = pd.DataFrame(data_features)\n",
        "    train_y = pd.DataFrame(data_label)\n",
        "\n",
        "    print(\"X- DATA:\",x_data.shape)\n",
        "    print(\"Feature - DATA:\",data_features.shape)\n",
        "\n",
        "    return train_x, train_y"
      ],
      "metadata": {
        "id": "Js0f4VMfalOb"
      },
      "execution_count": null,
      "outputs": []
    },
    {
      "cell_type": "code",
      "source": [
        "x_data, y_data = feature_extraction(model, dataset)"
      ],
      "metadata": {
        "colab": {
          "base_uri": "https://localhost:8080/"
        },
        "id": "CTf64YcTrSF8",
        "outputId": "2c4d7c1f-fc15-4bbc-8865-2970416dff53"
      },
      "execution_count": null,
      "outputs": [
        {
          "output_type": "stream",
          "name": "stdout",
          "text": [
            "X- DATA: torch.Size([10, 3, 256, 256])\n",
            "Feature - DATA: (240, 2048)\n"
          ]
        }
      ]
    },
    {
      "cell_type": "code",
      "source": [
        "X_train, X_test, y_train, y_test = train_test_split(x_data, y_data, test_size=0.20, random_state=42)"
      ],
      "metadata": {
        "id": "v3JTgP89sNhu"
      },
      "execution_count": null,
      "outputs": []
    },
    {
      "cell_type": "code",
      "source": [
        "hiddentest = Spiral_DataSet_PNG('/content/AIA-Project/Hidden Test/')\n",
        "\n",
        "#x_data,y_data = feature_extraction(model,hiddentest)\n",
        "\n",
        "hiddenset = test_loader(hiddentest)\n",
        "x_data, y_data = hiddenset[0].to(device),hiddenset[1].to(device)\n",
        "hidden_pred_int = model(x_data)\n",
        "\n",
        "_,hidden_pred = torch.max(hidden_pred_int,1)\n",
        "test_acc = torch.sum(hidden_pred==y_data.data)/len(hiddentest)\n",
        "print(f'Hidden Test Acc: {test_acc:.4f}')\n"
      ],
      "metadata": {
        "colab": {
          "base_uri": "https://localhost:8080/"
        },
        "id": "uPfq3_nUCgFA",
        "outputId": "0ed66635-4393-43e3-949c-6f53a6bcd11a"
      },
      "execution_count": null,
      "outputs": [
        {
          "output_type": "stream",
          "name": "stdout",
          "text": [
            "Hidden Test Acc: 0.4667\n"
          ]
        }
      ]
    },
    {
      "cell_type": "code",
      "source": [
        "hiddentest = Spiral_DataSet_PNG('/content/AIA-Project/Hidden Test/')\n",
        "\n",
        "x_data,y_data = feature_extraction(model,hiddentest)"
      ],
      "metadata": {
        "colab": {
          "base_uri": "https://localhost:8080/"
        },
        "id": "e3_inhL8Amcl",
        "outputId": "d15bc73a-3648-41ae-92fc-71f4c4c15dac"
      },
      "execution_count": null,
      "outputs": [
        {
          "output_type": "stream",
          "name": "stdout",
          "text": [
            "X- DATA: torch.Size([10, 3, 256, 256])\n",
            "Feature - DATA: (30, 2048)\n"
          ]
        }
      ]
    },
    {
      "cell_type": "code",
      "source": [
        "def metrics(prediction, labels):\n",
        "    print(\"##########   SVM   ##########\")\n",
        "    print(\"#####   Precision   #####\")\n",
        "    print(precision_score(prediction, labels))\n",
        "    print(\"#####   Accuracy   #####\")\n",
        "    print(accuracy_score(prediction, labels))\n",
        "    print(\"#####   Recall   #####\")\n",
        "    print(recall_score(prediction, labels))\n",
        "\n"
      ],
      "metadata": {
        "id": "imgenrRssCYD"
      },
      "execution_count": null,
      "outputs": []
    },
    {
      "cell_type": "code",
      "source": [
        "model_RFC = RFC()\n",
        "model_RFC.fit(X_train,y_train)\n",
        "\n",
        "train_preds_RFC = model_RFC.predict(X_train)\n",
        "test_preds_RFC = model_RFC.predict(X_test)\n",
        "hidden_preds_RFC = model_RFC.predict(x_data)\n",
        "\n",
        "\n",
        "\n",
        "print(\"###############   Training Metrics   ###############\")\n",
        "metrics(train_preds_RFC,y_train)\n",
        "print(\"###############   Testing Metrics   ###############\")\n",
        "metrics(test_preds_RFC,y_test)\n",
        "\n",
        "print(\"###############   Hidden Dataset Metrics   ###############\")\n",
        "metrics(hidden_preds_RFC,y_data)"
      ],
      "metadata": {
        "colab": {
          "base_uri": "https://localhost:8080/"
        },
        "id": "-_-WA0XYZT65",
        "outputId": "d78f914a-e8a4-4ba2-dd06-7e8e6f39d7f5"
      },
      "execution_count": null,
      "outputs": [
        {
          "output_type": "stream",
          "name": "stderr",
          "text": [
            "<ipython-input-18-7cfa0ae662b1>:2: DataConversionWarning: A column-vector y was passed when a 1d array was expected. Please change the shape of y to (n_samples,), for example using ravel().\n",
            "  model_RFC.fit(X_train,y_train)\n"
          ]
        },
        {
          "output_type": "stream",
          "name": "stdout",
          "text": [
            "###############   Training Metrics   ###############\n",
            "##########   SVM   ##########\n",
            "#####   Precision   #####\n",
            "1.0\n",
            "#####   Accuracy   #####\n",
            "1.0\n",
            "#####   Recall   #####\n",
            "1.0\n",
            "###############   Testing Metrics   ###############\n",
            "##########   SVM   ##########\n",
            "#####   Precision   #####\n",
            "0.9090909090909091\n",
            "#####   Accuracy   #####\n",
            "0.9375\n",
            "#####   Recall   #####\n",
            "1.0\n",
            "###############   Hidden Dataset Metrics   ###############\n",
            "##########   SVM   ##########\n",
            "#####   Precision   #####\n",
            "0.8\n",
            "#####   Accuracy   #####\n",
            "0.5\n",
            "#####   Recall   #####\n",
            "0.5\n"
          ]
        }
      ]
    },
    {
      "cell_type": "code",
      "source": [
        "model_SVC = SVC()\n",
        "model_SVC.fit(X_train,y_train)\n",
        "\n",
        "train_preds_SVC = model_SVC.predict(X_train)\n",
        "test_preds_SVC = model_SVC.predict(X_test)\n",
        "hidden_preds_SVC = model_SVC.predict(x_data)\n",
        "\n",
        "print(\"###############   Training Metrics   ###############\")\n",
        "metrics(train_preds_SVC,y_train)\n",
        "print(\"###############   Testing Metrics   ###############\")\n",
        "metrics(test_preds_SVC,y_test)\n",
        "print(\"###############   Hidden Dataset Metrics   ###############\")\n",
        "metrics(hidden_preds_SVC,y_data)"
      ],
      "metadata": {
        "colab": {
          "base_uri": "https://localhost:8080/"
        },
        "id": "QjtIbPmisJUc",
        "outputId": "18a40708-39ad-4c48-b2a4-d14089c5a759"
      },
      "execution_count": null,
      "outputs": [
        {
          "output_type": "stream",
          "name": "stdout",
          "text": [
            "###############   Training Metrics   ###############\n",
            "##########   SVM   ##########\n",
            "#####   Precision   #####\n",
            "1.0\n",
            "#####   Accuracy   #####\n",
            "1.0\n",
            "#####   Recall   #####\n",
            "1.0\n",
            "###############   Testing Metrics   ###############\n",
            "##########   SVM   ##########\n",
            "#####   Precision   #####\n",
            "1.0\n",
            "#####   Accuracy   #####\n",
            "1.0\n",
            "#####   Recall   #####\n",
            "1.0\n",
            "###############   Hidden Dataset Metrics   ###############\n",
            "##########   SVM   ##########\n",
            "#####   Precision   #####\n",
            "0.8\n",
            "#####   Accuracy   #####\n",
            "0.5\n",
            "#####   Recall   #####\n",
            "0.5\n",
            "#################################\n",
            "[1. 1. 1. 0. 0. 1. 1. 1. 1. 1. 0. 1. 1. 1. 1. 1. 1. 1. 1. 1. 1. 0. 0. 1.\n",
            " 1. 1. 0. 1. 1. 1.]\n",
            "#################################\n",
            "      0\n",
            "0   1.0\n",
            "1   0.0\n",
            "2   0.0\n",
            "3   1.0\n",
            "4   0.0\n",
            "5   1.0\n",
            "6   0.0\n",
            "7   0.0\n",
            "8   0.0\n",
            "9   0.0\n",
            "10  0.0\n",
            "11  1.0\n",
            "12  0.0\n",
            "13  1.0\n",
            "14  1.0\n",
            "15  1.0\n",
            "16  1.0\n",
            "17  1.0\n",
            "18  0.0\n",
            "19  0.0\n",
            "20  0.0\n",
            "21  1.0\n",
            "22  1.0\n",
            "23  1.0\n",
            "24  0.0\n",
            "25  1.0\n",
            "26  0.0\n",
            "27  1.0\n",
            "28  0.0\n",
            "29  1.0\n"
          ]
        },
        {
          "output_type": "stream",
          "name": "stderr",
          "text": [
            "/usr/local/lib/python3.8/dist-packages/sklearn/utils/validation.py:993: DataConversionWarning: A column-vector y was passed when a 1d array was expected. Please change the shape of y to (n_samples, ), for example using ravel().\n",
            "  y = column_or_1d(y, warn=True)\n"
          ]
        }
      ]
    },
    {
      "cell_type": "code",
      "source": [
        "model_LDA = LDA()\n",
        "model_LDA.fit(X_train,y_train)\n",
        "\n",
        "train_preds_LDA = model_LDA.predict(X_train)\n",
        "test_preds_LDA = model_LDA.predict(X_test)\n",
        "hidden_preds_LDA = model_LDA.predict(x_data)\n",
        "\n",
        "print(\"###############   Training Metrics   ###############\")\n",
        "metrics(train_preds_LDA,y_train)\n",
        "print(\"###############   Testing Metrics   ###############\")\n",
        "metrics(test_preds_LDA,y_test)\n",
        "print(\"###############   Hidden Dataset Metrics   ###############\")\n",
        "metrics(hidden_preds_LDA,y_data)"
      ],
      "metadata": {
        "colab": {
          "base_uri": "https://localhost:8080/"
        },
        "id": "Sl5sdAWhCso5",
        "outputId": "78ebf52c-a383-404d-c530-60561d7d329e"
      },
      "execution_count": null,
      "outputs": [
        {
          "output_type": "stream",
          "name": "stdout",
          "text": [
            "###############   Training Metrics   ###############\n",
            "##########   SVM   ##########\n",
            "#####   Precision   #####\n",
            "1.0\n",
            "#####   Accuracy   #####\n",
            "1.0\n",
            "#####   Recall   #####\n",
            "1.0\n",
            "###############   Testing Metrics   ###############\n",
            "##########   SVM   ##########\n",
            "#####   Precision   #####\n",
            "1.0\n",
            "#####   Accuracy   #####\n",
            "1.0\n",
            "#####   Recall   #####\n",
            "1.0\n",
            "###############   Hidden Dataset Metrics   ###############\n",
            "##########   SVM   ##########\n",
            "#####   Precision   #####\n",
            "1.0\n",
            "#####   Accuracy   #####\n",
            "0.5\n",
            "#####   Recall   #####\n",
            "0.5\n"
          ]
        },
        {
          "output_type": "stream",
          "name": "stderr",
          "text": [
            "/usr/local/lib/python3.8/dist-packages/sklearn/utils/validation.py:993: DataConversionWarning: A column-vector y was passed when a 1d array was expected. Please change the shape of y to (n_samples, ), for example using ravel().\n",
            "  y = column_or_1d(y, warn=True)\n"
          ]
        }
      ]
    },
    {
      "cell_type": "code",
      "source": [
        "model_QDA = QDA()\n",
        "model_QDA.fit(X_train,y_train)\n",
        "\n",
        "train_preds_QDA = model_QDA.predict(X_train)\n",
        "test_preds_QDA = model_QDA.predict(X_test)\n",
        "hidden_preds_QDA = model_QDA.predict(x_data)\n",
        "\n",
        "print(\"###############   Training Metrics   ###############\")\n",
        "metrics(train_preds_QDA,y_train)\n",
        "print(\"###############   Testing Metrics   ###############\")\n",
        "metrics(test_preds_QDA,y_test)\n",
        "print(\"###############   Hidden Dataset Metrics   ###############\")\n",
        "metrics(hidden_preds_QDA,y_data)"
      ],
      "metadata": {
        "colab": {
          "base_uri": "https://localhost:8080/"
        },
        "id": "ewZ80NnnDSvu",
        "outputId": "060cf87c-2ab3-45f3-b0d5-923326405fbb"
      },
      "execution_count": null,
      "outputs": [
        {
          "output_type": "stream",
          "name": "stdout",
          "text": [
            "###############   Training Metrics   ###############\n",
            "##########   SVM   ##########\n",
            "#####   Precision   #####\n",
            "1.0\n",
            "#####   Accuracy   #####\n",
            "1.0\n",
            "#####   Recall   #####\n",
            "1.0\n",
            "###############   Testing Metrics   ###############\n",
            "##########   SVM   ##########\n",
            "#####   Precision   #####\n",
            "1.0\n",
            "#####   Accuracy   #####\n",
            "0.6875\n",
            "#####   Recall   #####\n",
            "0.6875\n",
            "###############   Hidden Dataset Metrics   ###############\n",
            "##########   SVM   ##########\n",
            "#####   Precision   #####\n",
            "1.0\n",
            "#####   Accuracy   #####\n",
            "0.6\n",
            "#####   Recall   #####\n",
            "0.5555555555555556\n"
          ]
        },
        {
          "output_type": "stream",
          "name": "stderr",
          "text": [
            "/usr/local/lib/python3.8/dist-packages/sklearn/utils/validation.py:993: DataConversionWarning: A column-vector y was passed when a 1d array was expected. Please change the shape of y to (n_samples, ), for example using ravel().\n",
            "  y = column_or_1d(y, warn=True)\n",
            "/usr/local/lib/python3.8/dist-packages/sklearn/discriminant_analysis.py:878: UserWarning: Variables are collinear\n",
            "  warnings.warn(\"Variables are collinear\")\n"
          ]
        }
      ]
    },
    {
      "cell_type": "code",
      "source": [
        "model_KNN = KNN()\n",
        "model_KNN.fit(X_train,y_train)\n",
        "\n",
        "train_preds_KNN = model_KNN.predict(X_train)\n",
        "test_preds_KNN = model_KNN.predict(X_test)\n",
        "hidden_preds_KNN = model_KNN.predict(x_data)\n",
        "\n",
        "print(\"###############   Training Metrics   ###############\")\n",
        "metrics(train_preds_KNN,y_train)\n",
        "print(\"###############   Testing Metrics   ###############\")\n",
        "metrics(test_preds_KNN,y_test)\n",
        "print(\"###############   Hidden Dataset Metrics   ###############\")\n",
        "metrics(hidden_preds_KNN,y_data)"
      ],
      "metadata": {
        "colab": {
          "base_uri": "https://localhost:8080/"
        },
        "id": "BdG-XiE9Dy9t",
        "outputId": "ca7496d2-813c-4612-c242-f699989b898f"
      },
      "execution_count": null,
      "outputs": [
        {
          "output_type": "stream",
          "name": "stdout",
          "text": [
            "###############   Training Metrics   ###############\n",
            "##########   SVM   ##########\n",
            "#####   Precision   #####\n",
            "1.0\n",
            "#####   Accuracy   #####\n",
            "1.0\n",
            "#####   Recall   #####\n",
            "1.0\n",
            "###############   Testing Metrics   ###############\n",
            "##########   SVM   ##########\n",
            "#####   Precision   #####\n",
            "1.0\n",
            "#####   Accuracy   #####\n",
            "1.0\n",
            "#####   Recall   #####\n",
            "1.0\n",
            "###############   Hidden Dataset Metrics   ###############\n",
            "##########   SVM   ##########\n",
            "#####   Precision   #####\n",
            "0.7333333333333333\n",
            "#####   Accuracy   #####\n",
            "0.43333333333333335\n",
            "#####   Recall   #####\n",
            "0.4583333333333333\n"
          ]
        },
        {
          "output_type": "stream",
          "name": "stderr",
          "text": [
            "/usr/local/lib/python3.8/dist-packages/sklearn/neighbors/_classification.py:198: DataConversionWarning: A column-vector y was passed when a 1d array was expected. Please change the shape of y to (n_samples,), for example using ravel().\n",
            "  return self._fit(X, y)\n"
          ]
        }
      ]
    },
    {
      "cell_type": "code",
      "source": [
        "model_DTC = DTC()\n",
        "model_DTC.fit(X_train,y_train)\n",
        "\n",
        "train_preds_DTC = model_DTC.predict(X_train)\n",
        "test_preds_DTC = model_DTC.predict(X_test)\n",
        "hidden_preds_DTC = model_DTC.predict(x_data)\n",
        "\n",
        "print(\"###############   Training Metrics   ###############\")\n",
        "metrics(train_preds_DTC,y_train)\n",
        "print(\"###############   Testing Metrics   ###############\")\n",
        "metrics(test_preds_DTC,y_test)\n",
        "print(\"###############   Hidden Dataset Metrics   ###############\")\n",
        "metrics(hidden_preds_DTC,y_data)"
      ],
      "metadata": {
        "colab": {
          "base_uri": "https://localhost:8080/"
        },
        "id": "sw1ePggZD_Js",
        "outputId": "426351a1-17e1-4bda-9550-dc6d28117578"
      },
      "execution_count": null,
      "outputs": [
        {
          "output_type": "stream",
          "name": "stdout",
          "text": [
            "###############   Training Metrics   ###############\n",
            "##########   SVM   ##########\n",
            "#####   Precision   #####\n",
            "1.0\n",
            "#####   Accuracy   #####\n",
            "1.0\n",
            "#####   Recall   #####\n",
            "1.0\n",
            "###############   Testing Metrics   ###############\n",
            "##########   SVM   ##########\n",
            "#####   Precision   #####\n",
            "1.0\n",
            "#####   Accuracy   #####\n",
            "1.0\n",
            "#####   Recall   #####\n",
            "1.0\n",
            "###############   Hidden Dataset Metrics   ###############\n",
            "##########   SVM   ##########\n",
            "#####   Precision   #####\n",
            "0.8\n",
            "#####   Accuracy   #####\n",
            "0.6\n",
            "#####   Recall   #####\n",
            "0.5714285714285714\n"
          ]
        }
      ]
    },
    {
      "cell_type": "code",
      "source": [
        "model_ABC = ABC()\n",
        "model_ABC.fit(X_train,y_train)\n",
        "\n",
        "train_preds_ABC = model_ABC.predict(X_train)\n",
        "test_preds_ABC = model_ABC.predict(X_test)\n",
        "hidden_preds_ABC = model_ABC.predict(x_data)\n",
        "\n",
        "print(\"###############   Training Metrics   ###############\")\n",
        "metrics(train_preds_ABC,y_train)\n",
        "print(\"###############   Testing Metrics   ###############\")\n",
        "metrics(test_preds_ABC,y_test)\n",
        "print(\"###############   Hidden Dataset Metrics   ###############\")\n",
        "metrics(hidden_preds_ABC,y_data)"
      ],
      "metadata": {
        "colab": {
          "base_uri": "https://localhost:8080/"
        },
        "id": "lVH9sHeaEMjd",
        "outputId": "f0a6083d-885c-4086-e443-78e6de070f08"
      },
      "execution_count": null,
      "outputs": [
        {
          "output_type": "stream",
          "name": "stdout",
          "text": [
            "###############   Training Metrics   ###############\n",
            "##########   SVM   ##########\n",
            "#####   Precision   #####\n",
            "1.0\n",
            "#####   Accuracy   #####\n",
            "1.0\n",
            "#####   Recall   #####\n",
            "1.0\n",
            "###############   Testing Metrics   ###############\n",
            "##########   SVM   ##########\n",
            "#####   Precision   #####\n",
            "1.0\n",
            "#####   Accuracy   #####\n",
            "1.0\n",
            "#####   Recall   #####\n",
            "1.0\n",
            "###############   Hidden Dataset Metrics   ###############\n",
            "##########   SVM   ##########\n",
            "#####   Precision   #####\n",
            "0.9333333333333333\n",
            "#####   Accuracy   #####\n",
            "0.5666666666666667\n",
            "#####   Recall   #####\n",
            "0.5384615384615384\n"
          ]
        },
        {
          "output_type": "stream",
          "name": "stderr",
          "text": [
            "/usr/local/lib/python3.8/dist-packages/sklearn/utils/validation.py:993: DataConversionWarning: A column-vector y was passed when a 1d array was expected. Please change the shape of y to (n_samples, ), for example using ravel().\n",
            "  y = column_or_1d(y, warn=True)\n"
          ]
        }
      ]
    }
  ]
}